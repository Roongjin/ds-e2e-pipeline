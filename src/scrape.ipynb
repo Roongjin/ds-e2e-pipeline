{
 "cells": [
  {
   "cell_type": "code",
   "execution_count": 1,
   "metadata": {},
   "outputs": [],
   "source": [
    "import findspark\n",
    "findspark.init()"
   ]
  },
  {
   "cell_type": "code",
   "execution_count": 2,
   "metadata": {},
   "outputs": [],
   "source": [
    "spark_url = 'local'"
   ]
  },
  {
   "cell_type": "code",
   "execution_count": 3,
   "metadata": {},
   "outputs": [],
   "source": [
    "from pyspark.sql import SparkSession\n",
    "import pyspark.sql.functions as F\n",
    "from pyspark.sql.types import ArrayType, StructType"
   ]
  },
  {
   "cell_type": "code",
   "execution_count": 4,
   "metadata": {},
   "outputs": [
    {
     "name": "stderr",
     "output_type": "stream",
     "text": [
      "Setting default log level to \"WARN\".\n",
      "To adjust logging level use sc.setLogLevel(newLevel). For SparkR, use setLogLevel(newLevel).\n",
      "24/05/03 22:21:28 WARN NativeCodeLoader: Unable to load native-hadoop library for your platform... using builtin-java classes where applicable\n"
     ]
    },
    {
     "name": "stderr",
     "output_type": "stream",
     "text": [
      "24/05/03 22:21:46 WARN GarbageCollectionMetrics: To enable non-built-in garbage collector(s) List(G1 Concurrent GC), users should configure it(them) to spark.eventLog.gcMetrics.youngGenerationGarbageCollectors or spark.eventLog.gcMetrics.oldGenerationGarbageCollectors\n"
     ]
    }
   ],
   "source": [
    "spark = SparkSession.builder\\\n",
    "        .master(spark_url)\\\n",
    "        .appName('Clean Scraped Data')\\\n",
    "        .getOrCreate()"
   ]
  },
  {
   "cell_type": "code",
   "execution_count": 17,
   "metadata": {},
   "outputs": [],
   "source": [
    "sc = spark.sparkContext"
   ]
  },
  {
   "cell_type": "code",
   "execution_count": 5,
   "metadata": {},
   "outputs": [],
   "source": [
    "api_key = \"11c74ac47ee301629d4f6f3a51e99a60\"\n"
   ]
  },
  {
   "cell_type": "code",
   "execution_count": 10,
   "metadata": {},
   "outputs": [],
   "source": [
    "import requests\n",
    "import json"
   ]
  },
  {
   "cell_type": "code",
   "execution_count": 115,
   "metadata": {},
   "outputs": [
    {
     "name": "stdout",
     "output_type": "stream",
     "text": [
      "['SCOPUS_ID:85029781991', 'SCOPUS_ID:85049840335', 'SCOPUS_ID:85039703338', 'SCOPUS_ID:85039924885', 'SCOPUS_ID:85039924338']\n"
     ]
    }
   ],
   "source": [
    "url = f\"https://api.elsevier.com/content/search/scopus?query=all(Chulalongkorn)&date=2017&view=COMPLETE&apiKey={api_key}&count=5\"\n",
    "headers = {'content-type': 'applicaton/json'}\n",
    "\n",
    "res = requests.get(url, headers=headers)\n",
    "\n",
    "entries = res.json()[\"search-results\"][\"entry\"]\n",
    "\n",
    "scopus_ids = [ entry[\"dc:identifier\"] for entry in entries]\n",
    "print(scopus_ids)"
   ]
  },
  {
   "cell_type": "code",
   "execution_count": 129,
   "metadata": {},
   "outputs": [
    {
     "name": "stdout",
     "output_type": "stream",
     "text": [
      "<abstracts-retrieval-response xmlns=\"http://www.elsevier.com/xml/svapi/abstract/dtd\" xmlns:dn=\"http://www.elsevier.com/xml/svapi/abstract/dtd\" xmlns:ait=\"http://www.elsevier.com/xml/ani/ait\" xmlns:ce=\"http://www.elsevier.com/xml/ani/common\" xmlns:cto=\"http://www.elsevier.com/xml/cto/dtd\" xmlns:dc=\"http://purl.org/dc/elements/1.1/\" xmlns:prism=\"http://prismstandard.org/namespaces/basic/2.0/\" xmlns:xocs=\"http://www.elsevier.com/xml/xocs/dtd\" xmlns:xsi=\"http://www.w3.org/2001/XMLSchema-instance\"><coredata><prism:url>https://api.elsevier.com/content/abstract/scopus_id/85029781991</prism:url><dc:identifier>SCOPUS_ID:85029781991</dc:identifier><eid>2-s2.0-85029781991</eid><pii>S0950061817318585</pii><prism:doi>10.1016/j.conbuildmat.2017.09.057</prism:doi><dc:title>Shear capacity of high performance fiber reinforced concrete I-beams</dc:title><prism:aggregationType>Journal</prism:aggregationType><srctype>j</srctype><subtype>ar</subtype><subtypeDescription>Article</subtypeDescription><citedby-count>55</citedby-count><prism:publicationName>Construction and Building Materials</prism:publicationName><dc:publisher>Elsevier Ltd</dc:publisher><source-id>24443</source-id><prism:issn>09500618</prism:issn><prism:volume>157</prism:volume><prism:startingPage>182</prism:startingPage><prism:endingPage>193</prism:endingPage><prism:pageRange>182-193</prism:pageRange><prism:coverDate>2017-12-30</prism:coverDate><openaccess>0</openaccess><openaccessFlag>false</openaccessFlag><dc:creator><author seq=\"1\" auid=\"35743586000\"><ce:initials>W.</ce:initials><ce:indexed-name>Pansuk W.</ce:indexed-name><ce:surname>Pansuk</ce:surname><ce:given-name>Withit</ce:given-name><preferred-name><ce:initials>W.</ce:initials><ce:indexed-name>Pansuk W.</ce:indexed-name><ce:surname>Pansuk</ce:surname><ce:given-name>Withit</ce:given-name></preferred-name><author-url>https://api.elsevier.com/content/author/author_id/35743586000</author-url><affiliation id=\"60028190\" href=\"https://api.elsevier.com/content/affiliation/affiliation_id/60028190\"/></author></dc:creator><dc:description><abstract xmlns=\"\" original=\"y\" xml:lang=\"eng\"><publishercopyright>© 2017 Elsevier Ltd</publishercopyright><ce:para>An experimental program was carried out to investigate the shear capacity of High-Performance Fiber-Reinforced Concrete (HPFRC) I-beams. The main parameters were assigned as the fiber content and presence of shear reinforcement. To study the effect of these main parameters on the shear capacity, testing of six I-beams and other control specimens was conducted. It can be observed from the results of the experimental study that the presence of fibers and shear reinforcement significantly improves the ultimate capacity and structural behavior of HPFRC members. Finally, the experimental results are discussed, and the shear capacity of HPFRC can be estimated by extending the code provisions stated in AFGC-Sétra 2013.</ce:para></abstract></dc:description><link href=\"https://api.elsevier.com/content/abstract/scopus_id/85029781991\" rel=\"self\"/><link href=\"https://www.scopus.com/inward/record.uri?partnerID=HzOxMe3b&amp;scp=85029781991&amp;origin=inward\" rel=\"scopus\"/><link href=\"https://www.scopus.com/inward/citedby.uri?partnerID=HzOxMe3b&amp;scp=85029781991&amp;origin=inward\" rel=\"scopus-citedby\"/></coredata><affiliation id=\"60118019\" href=\"https://api.elsevier.com/content/affiliation/affiliation_id/60118019\"><affilname>Faculteit Civiele Techniek en Geowetenschappen, TU Delft</affilname><affiliation-city>Delft</affiliation-city><affiliation-country>Netherlands</affiliation-country></affiliation><affiliation id=\"60028190\" href=\"https://api.elsevier.com/content/affiliation/affiliation_id/60028190\"><affilname>Chulalongkorn University</affilname><affiliation-city>Bangkok</affiliation-city><affiliation-country>Thailand</affiliation-country></affiliation><affiliation id=\"60014652\" href=\"https://api.elsevier.com/content/affiliation/affiliation_id/60014652\"><affilname>Hokkaido University</affilname><affiliation-city>Sapporo</affiliation-city><affiliation-country>Japan</affiliation-country></affiliation><authors><author seq=\"1\" auid=\"35743586000\"><ce:initials>W.</ce:initials><ce:indexed-name>Pansuk W.</ce:indexed-name><ce:surname>Pansuk</ce:surname><ce:given-name>Withit</ce:given-name><preferred-name><ce:initials>W.</ce:initials><ce:indexed-name>Pansuk W.</ce:indexed-name><ce:surname>Pansuk</ce:surname><ce:given-name>Withit</ce:given-name></preferred-name><author-url>https://api.elsevier.com/content/author/author_id/35743586000</author-url><affiliation id=\"60028190\" href=\"https://api.elsevier.com/content/affiliation/affiliation_id/60028190\"/></author><author seq=\"2\" auid=\"57192267714\"><ce:initials>T.N.</ce:initials><ce:indexed-name>Nguyen T.N.</ce:indexed-name><ce:surname>Nguyen</ce:surname><ce:given-name>Thuc N.</ce:given-name><preferred-name><ce:initials>T.N.</ce:initials><ce:indexed-name>Nguyen T.N.</ce:indexed-name><ce:surname>Nguyen</ce:surname><ce:given-name>Thuc N.</ce:given-name></preferred-name><author-url>https://api.elsevier.com/content/author/author_id/57192267714</author-url><affiliation id=\"60028190\" href=\"https://api.elsevier.com/content/affiliation/affiliation_id/60028190\"/></author><author seq=\"3\" auid=\"35146639500\"><ce:initials>Y.</ce:initials><ce:indexed-name>Sato Y.</ce:indexed-name><ce:surname>Sato</ce:surname><ce:given-name>Yasushiko</ce:given-name><preferred-name><ce:initials>Y.</ce:initials><ce:indexed-name>Sato Y.</ce:indexed-name><ce:surname>Sato</ce:surname><ce:given-name>Yasushiko</ce:given-name></preferred-name><author-url>https://api.elsevier.com/content/author/author_id/35146639500</author-url><affiliation id=\"60014652\" href=\"https://api.elsevier.com/content/affiliation/affiliation_id/60014652\"/></author><author seq=\"4\" auid=\"6506056739\"><ce:initials>J.A.</ce:initials><ce:indexed-name>Den Uijl J.A.</ce:indexed-name><ce:surname>Den Uijl</ce:surname><preferred-name><ce:initials>J.A.</ce:initials><ce:indexed-name>Den Uijl J.A.</ce:indexed-name><ce:surname>Den Uijl</ce:surname><ce:given-name>J. A.</ce:given-name></preferred-name><author-url>https://api.elsevier.com/content/author/author_id/6506056739</author-url><affiliation id=\"60118019\" href=\"https://api.elsevier.com/content/affiliation/affiliation_id/60118019\"/></author><author seq=\"5\" auid=\"7004358865\"><ce:initials>J.C.</ce:initials><ce:indexed-name>Walraven J.C.</ce:indexed-name><ce:surname>Walraven</ce:surname><preferred-name><ce:initials>J.C.</ce:initials><ce:indexed-name>Walraven J.C.</ce:indexed-name><ce:surname>Walraven</ce:surname><ce:given-name>J. C.</ce:given-name></preferred-name><author-url>https://api.elsevier.com/content/author/author_id/7004358865</author-url><affiliation id=\"60118019\" href=\"https://api.elsevier.com/content/affiliation/affiliation_id/60118019\"/></author></authors><language xml:lang=\"eng\"/><authkeywords><author-keyword>Fiber content</author-keyword><author-keyword>High performance fiber reinforced concrete (HPFRC)</author-keyword><author-keyword>Shear capacity</author-keyword><author-keyword>Shear reinforcement</author-keyword></authkeywords><idxterms><mainterm weight=\"b\" candidate=\"n\">Experimental program</mainterm><mainterm weight=\"b\" candidate=\"n\">Fiber contents</mainterm><mainterm weight=\"b\" candidate=\"n\">High performance fiber reinforced concrete</mainterm><mainterm weight=\"b\" candidate=\"n\">Main parameters</mainterm><mainterm weight=\"b\" candidate=\"n\">Shear capacity</mainterm><mainterm weight=\"b\" candidate=\"n\">Shear reinforcement</mainterm><mainterm weight=\"b\" candidate=\"n\">Structural behaviors</mainterm><mainterm weight=\"b\" candidate=\"n\">Ultimate capacity</mainterm></idxterms><subject-areas><subject-area code=\"2205\" abbrev=\"ENGI\">Civil and Structural Engineering</subject-area><subject-area code=\"2215\" abbrev=\"ENGI\">Building and Construction</subject-area><subject-area code=\"2500\" abbrev=\"MATE\">Materials Science (all)</subject-area></subject-areas><item xmlns=\"\"><xocs:meta><xocs:funding-list has-funding-info=\"1\" pui-match=\"primary\"><xocs:funding-addon-generated-timestamp>2022-06-09T22:27:48.492171Z</xocs:funding-addon-generated-timestamp><xocs:funding-addon-type>http://vtw.elsevier.com/data/voc/AddOnTypes/50.7/aggregated-refined</xocs:funding-addon-type><xocs:funding><xocs:funding-agency-matched-string>Ratchadapisek Sompoch Endowment Fund</xocs:funding-agency-matched-string><xocs:funding-id>CU-57-029-AM</xocs:funding-id></xocs:funding><xocs:funding><xocs:funding-agency-matched-string>Ministry of Education</xocs:funding-agency-matched-string><xocs:funding-agency-acronym>MOE</xocs:funding-agency-acronym><xocs:funding-agency>Ministry of Education</xocs:funding-agency><xocs:funding-agency-id>http://data.elsevier.com/vocabulary/SciValFunders/100009950</xocs:funding-agency-id><xocs:funding-agency-country>http://sws.geonames.org/1605651/</xocs:funding-agency-country></xocs:funding><xocs:funding><xocs:funding-agency-matched-string>Chulalongkorn University</xocs:funding-agency-matched-string><xocs:funding-agency-acronym>CU</xocs:funding-agency-acronym><xocs:funding-agency>Chulalongkorn University</xocs:funding-agency><xocs:funding-agency-id>http://data.elsevier.com/vocabulary/SciValFunders/501100002873</xocs:funding-agency-id><xocs:funding-agency-country>http://sws.geonames.org/1605651/</xocs:funding-agency-country></xocs:funding><xocs:funding-text>The authors would like to acknowledge the support received from Chulalongkorn University with scholarships of CU-ASEAN, AUN/SEED-Net program, the Ratchadapisek Sompoch Endowment Fund (2014) (CU-57-029-AM) and “Stimulus Package 2 (SP2) of Ministry of Education under the theme of Green Engineering for Green Society” of Thailand.</xocs:funding-text></xocs:funding-list></xocs:meta><ait:process-info><ait:date-delivered day=\"13\" month=\"11\" timestamp=\"2021-11-13T00:44:46.000046-05:00\" year=\"2021\"/><ait:date-sort day=\"30\" month=\"12\" year=\"2017\"/><ait:status stage=\"S300\" state=\"update\" type=\"core\"/></ait:process-info><bibrecord><item-info><copyright type=\"Elsevier\">Copyright 2017 Elsevier B.V., All rights reserved.</copyright><itemidlist><ce:pii>S0950061817318585</ce:pii><ce:doi>10.1016/j.conbuildmat.2017.09.057</ce:doi><itemid idtype=\"PUI\">618423358</itemid><itemid idtype=\"CAR-ID\">709988999</itemid><itemid idtype=\"CPX\">20173904210896</itemid><itemid idtype=\"REAXYSCAR\">20171696335</itemid><itemid idtype=\"SCOPUS\">20170533583</itemid><itemid idtype=\"SCP\">85029781991</itemid><itemid idtype=\"SGR\">85029781991</itemid></itemidlist><history><date-created day=\"28\" month=\"09\" timestamp=\"BST 07:20:25\" year=\"2017\"/></history><dbcollection>CPX</dbcollection><dbcollection>REAXYSCAR</dbcollection><dbcollection>SCOPUS</dbcollection><dbcollection>Scopusbase</dbcollection></item-info><head><citation-info><citation-type code=\"ar\"/><citation-language xml:lang=\"eng\" language=\"English\"/><abstract-language xml:lang=\"eng\" language=\"English\"/><author-keywords><author-keyword xml:lang=\"eng\">Fiber content</author-keyword><author-keyword xml:lang=\"eng\">High performance fiber reinforced concrete (HPFRC)</author-keyword><author-keyword xml:lang=\"eng\">Shear capacity</author-keyword><author-keyword xml:lang=\"eng\">Shear reinforcement</author-keyword></author-keywords></citation-info><citation-title><titletext original=\"y\" xml:lang=\"eng\" language=\"English\">Shear capacity of high performance fiber reinforced concrete I-beams</titletext></citation-title><author-group><author auid=\"35743586000\" orcid=\"0000-0001-8910-2043\" seq=\"1\" type=\"auth\"><ce:initials>W.</ce:initials><ce:indexed-name>Pansuk W.</ce:indexed-name><ce:surname>Pansuk</ce:surname><ce:given-name>Withit</ce:given-name><preferred-name><ce:initials>W.</ce:initials><ce:indexed-name>Pansuk W.</ce:indexed-name><ce:surname>Pansuk</ce:surname><ce:given-name>Withit</ce:given-name></preferred-name></author><author auid=\"57192267714\" date-locked=\"2018-02-23T10:33:04.694\" seq=\"2\" type=\"auth\"><ce:initials>T.N.</ce:initials><ce:indexed-name>Nguyen T.N.</ce:indexed-name><ce:surname>Nguyen</ce:surname><ce:given-name>Thuc N.</ce:given-name><preferred-name><ce:initials>T.N.</ce:initials><ce:indexed-name>Nguyen T.N.</ce:indexed-name><ce:surname>Nguyen</ce:surname><ce:given-name>Thuc N.</ce:given-name></preferred-name></author><affiliation afid=\"60028190\" country=\"tha\" dptid=\"104425662\"><organization>Department of Civil Engineering</organization><organization>Chulalongkorn University</organization><address-part>Phayathai Road, Pathumwan</address-part><city>Bangkok</city><postal-code>10330</postal-code><affiliation-id afid=\"60028190\" dptid=\"104425662\"/><country>Thailand</country></affiliation></author-group><author-group><author auid=\"35146639500\" date-locked=\"2018-05-25T16:45:17.910\" seq=\"3\" type=\"auth\"><ce:initials>Y.</ce:initials><ce:indexed-name>Sato Y.</ce:indexed-name><ce:surname>Sato</ce:surname><ce:given-name>Yasushiko</ce:given-name><preferred-name><ce:initials>Y.</ce:initials><ce:indexed-name>Sato Y.</ce:indexed-name><ce:surname>Sato</ce:surname><ce:given-name>Yasushiko</ce:given-name></preferred-name></author><affiliation afid=\"60014652\" country=\"jpn\" dptid=\"113891943\"><organization>Faculty of Engineering</organization><organization>Hokkaido University</organization><city>Sapporo</city><postal-code>060-8628</postal-code><affiliation-id afid=\"60014652\" dptid=\"113891943\"/><country>Japan</country></affiliation></author-group><author-group><author auid=\"6506056739\" seq=\"4\" type=\"auth\"><ce:initials>J.A.</ce:initials><ce:indexed-name>Den Uijl J.A.</ce:indexed-name><ce:surname>Den Uijl</ce:surname><preferred-name><ce:initials>J.A.</ce:initials><ce:indexed-name>Den Uijl J.A.</ce:indexed-name><ce:surname>Den Uijl</ce:surname><ce:given-name>J. A.</ce:given-name></preferred-name></author><author auid=\"7004358865\" seq=\"5\" type=\"auth\"><ce:initials>J.C.</ce:initials><ce:indexed-name>Walraven J.C.</ce:indexed-name><ce:surname>Walraven</ce:surname><preferred-name><ce:initials>J.C.</ce:initials><ce:indexed-name>Walraven J.C.</ce:indexed-name><ce:surname>Walraven</ce:surname><ce:given-name>J. C.</ce:given-name></preferred-name></author><affiliation afid=\"60118019\" country=\"nld\"><organization>Delft University of Technology</organization><organization>Faculty of Civil Engineering and Geosciences</organization><city>Delft</city><affiliation-id afid=\"60118019\"/><affiliation-id afid=\"60006288\"/><country>Netherlands</country></affiliation></author-group><correspondence><person><ce:initials>W.</ce:initials><ce:indexed-name>Pansuk W.</ce:indexed-name><ce:surname>Pansuk</ce:surname><ce:given-name>Withit</ce:given-name></person><affiliation country=\"tha\"><organization>Department of Civil Engineering</organization><organization>Chulalongkorn University</organization><address-part>Phayathai Road, Pathumwan</address-part><city>Bangkok</city><postal-code>10330</postal-code><country>Thailand</country></affiliation></correspondence><abstracts><abstract original=\"y\" xml:lang=\"eng\"><publishercopyright>© 2017 Elsevier Ltd</publishercopyright><ce:para>An experimental program was carried out to investigate the shear capacity of High-Performance Fiber-Reinforced Concrete (HPFRC) I-beams. The main parameters were assigned as the fiber content and presence of shear reinforcement. To study the effect of these main parameters on the shear capacity, testing of six I-beams and other control specimens was conducted. It can be observed from the results of the experimental study that the presence of fibers and shear reinforcement significantly improves the ultimate capacity and structural behavior of HPFRC members. Finally, the experimental results are discussed, and the shear capacity of HPFRC can be estimated by extending the code provisions stated in AFGC-Sétra 2013.</ce:para></abstract></abstracts><source country=\"gbr\" srcid=\"24443\" type=\"j\"><sourcetitle>Construction and Building Materials</sourcetitle><sourcetitle-abbrev>Constr Build Mater</sourcetitle-abbrev><translated-sourcetitle xml:lang=\"eng\">Construction and Building Materials</translated-sourcetitle><issn type=\"print\">09500618</issn><codencode>CBUME</codencode><volisspag><voliss volume=\"157\"/><pagerange first=\"182\" last=\"193\"/></volisspag><publicationyear first=\"2017\"/><publicationdate><year>2017</year><month>12</month><day>30</day><date-text xfab-added=\"true\">30 December 2017</date-text></publicationdate><publisher><publishername>Elsevier Ltd</publishername></publisher></source><enhancement><classificationgroup><classifications type=\"CPXCLASS\"><classification> <classification-code>412</classification-code> <classification-description>Concrete</classification-description> </classification><classification> <classification-code>631.1</classification-code> <classification-description>Fluid Flow, General</classification-description> </classification></classifications><classifications type=\"FLXCLASS\"><classification> <classification-code>78.21</classification-code> <classification-description>FLUID MECHANICS</classification-description> </classification><classification> <classification-code>79.21</classification-code> <classification-description>FLUID MECHANICS</classification-description> </classification></classifications><classifications type=\"ASJC\"><classification>2205</classification><classification>2215</classification><classification>2500</classification></classifications><classifications type=\"SUBJABBR\"><classification>ENGI</classification><classification>MATE</classification></classifications></classificationgroup></enhancement></head><tail><bibliography refcount=\"41\"><reference id=\"1\"><ref-info><ref-title><ref-titletext>Shear behaviour of steel fibre reinforced concrete beams</ref-titletext></ref-title><refd-itemidlist><itemid idtype=\"FRAGMENTID\">b0005</itemid><itemid idtype=\"SGR\">17644366142</itemid></refd-itemidlist><ref-authors><author seq=\"1\"><ce:initials>A.</ce:initials><ce:indexed-name>Meda A.</ce:indexed-name><ce:surname>Meda</ce:surname></author><author seq=\"2\"><ce:initials>F.</ce:initials><ce:indexed-name>Minelli F.</ce:indexed-name><ce:surname>Minelli</ce:surname></author><author seq=\"3\"><ce:initials>G.A.</ce:initials><ce:indexed-name>Plizzari G.A.</ce:indexed-name><ce:surname>Plizzari</ce:surname></author><author seq=\"4\"><ce:initials>P.</ce:initials><ce:indexed-name>Riva P.</ce:indexed-name><ce:surname>Riva</ce:surname></author></ref-authors><ref-sourcetitle>Mater. Struct.</ref-sourcetitle><ref-publicationyear first=\"2005\"/><ref-volisspag><voliss issue=\"3\" volume=\"38\"/><pagerange first=\"343\" last=\"351\"/></ref-volisspag></ref-info><ref-fulltext>Meda, A., Minelli, F., Plizzari, G.A., Riva, P., Shear behaviour of steel fibre reinforced concrete beams. Mater. Struct. 38:3 (2005), 343–351.</ref-fulltext></reference><reference id=\"2\"><ref-info><ref-title><ref-titletext>Effect of aspect ratio and volume fraction of steel fiber on the mechanical properties of SFRC</ref-titletext></ref-title><refd-itemidlist><itemid idtype=\"FRAGMENTID\">b0010</itemid><itemid idtype=\"SGR\">33846829855</itemid></refd-itemidlist><ref-authors><author seq=\"1\"><ce:initials>Ş.</ce:initials><ce:indexed-name>Yazici S.</ce:indexed-name><ce:surname>Yazıcı</ce:surname></author><author seq=\"2\"><ce:initials>G.</ce:initials><ce:indexed-name>Inan G.</ce:indexed-name><ce:surname>İnan</ce:surname></author><author seq=\"3\"><ce:initials>V.</ce:initials><ce:indexed-name>Tabak V.</ce:indexed-name><ce:surname>Tabak</ce:surname></author></ref-authors><ref-sourcetitle>Constr. Build. Mater.</ref-sourcetitle><ref-publicationyear first=\"2007\"/><ref-volisspag><voliss issue=\"6\" volume=\"21\"/><pagerange first=\"1250\" last=\"1253\"/></ref-volisspag></ref-info><ref-fulltext>Yazıcı, Ş., İnan, G., Tabak, V., Effect of aspect ratio and volume fraction of steel fiber on the mechanical properties of SFRC. Constr. Build. Mater. 21:6 (2007), 1250–1253.</ref-fulltext></reference><reference id=\"3\"><ref-info><ref-title><ref-titletext>Effects of steel fiber addition on mechanical properties of concrete and RC beams</ref-titletext></ref-title><refd-itemidlist><itemid idtype=\"FRAGMENTID\">b0015</itemid><itemid idtype=\"SGR\">33845315911</itemid></refd-itemidlist><ref-authors><author seq=\"1\"><ce:initials>F.</ce:initials><ce:indexed-name>Altun F.</ce:indexed-name><ce:surname>Altun</ce:surname></author><author seq=\"2\"><ce:initials>T.</ce:initials><ce:indexed-name>Haktanir T.</ce:indexed-name><ce:surname>Haktanir</ce:surname></author><author seq=\"3\"><ce:initials>K.</ce:initials><ce:indexed-name>Ari K.</ce:indexed-name><ce:surname>Ari</ce:surname></author></ref-authors><ref-sourcetitle>Constr. Build. Mater.</ref-sourcetitle><ref-publicationyear first=\"2007\"/><ref-volisspag><voliss issue=\"3\" volume=\"21\"/><pagerange first=\"654\" last=\"661\"/></ref-volisspag></ref-info><ref-fulltext>Altun, F., Haktanir, T., Ari, K., Effects of steel fiber addition on mechanical properties of concrete and RC beams. Constr. Build. Mater. 21:3 (2007), 654–661.</ref-fulltext></reference><reference id=\"4\"><ref-info><ref-title><ref-titletext>Mechanical properties of high-strength steel fiber-reinforced concrete</ref-titletext></ref-title><refd-itemidlist><itemid idtype=\"FRAGMENTID\">b0020</itemid><itemid idtype=\"SGR\">3242759113</itemid></refd-itemidlist><ref-authors><author seq=\"1\"><ce:initials>P.</ce:initials><ce:indexed-name>Song P.</ce:indexed-name><ce:surname>Song</ce:surname></author><author seq=\"2\"><ce:initials>S.</ce:initials><ce:indexed-name>Hwang S.</ce:indexed-name><ce:surname>Hwang</ce:surname></author></ref-authors><ref-sourcetitle>Constr. Build. Mater.</ref-sourcetitle><ref-publicationyear first=\"2004\"/><ref-volisspag><voliss issue=\"9\" volume=\"18\"/><pagerange first=\"669\" last=\"673\"/></ref-volisspag></ref-info><ref-fulltext>Song, P., Hwang, S., Mechanical properties of high-strength steel fiber-reinforced concrete. Constr. Build. Mater. 18:9 (2004), 669–673.</ref-fulltext></reference><reference id=\"5\"><ref-info><ref-title><ref-titletext>Shear behavior of ultrahigh performance fiber-reinforced concrete beams. I: experimental investigation</ref-titletext></ref-title><refd-itemidlist><itemid idtype=\"FRAGMENTID\">b0025</itemid><itemid idtype=\"SGR\">84898887030</itemid></refd-itemidlist><ref-authors><author seq=\"1\"><ce:initials>F.</ce:initials><ce:indexed-name>Baby F.</ce:indexed-name><ce:surname>Baby</ce:surname></author><author seq=\"2\"><ce:initials>P.</ce:initials><ce:indexed-name>Marchand P.</ce:indexed-name><ce:surname>Marchand</ce:surname></author><author seq=\"3\"><ce:initials>F.</ce:initials><ce:indexed-name>Toutlemonde F.</ce:indexed-name><ce:surname>Toutlemonde</ce:surname></author></ref-authors><ref-sourcetitle>J. Struct. Eng.</ref-sourcetitle><ref-publicationyear first=\"2013\"/><ref-volisspag><voliss issue=\"5\" volume=\"140\"/><pagerange first=\"04013111\"/></ref-volisspag></ref-info><ref-fulltext>Baby, F., Marchand, P., Toutlemonde, F., Shear behavior of ultrahigh performance fiber-reinforced concrete beams. I: experimental investigation. J. Struct. Eng., 140(5), 2013, 04013111.</ref-fulltext></reference><reference id=\"6\"><ref-info><ref-title><ref-titletext>Shear behavior of ultrahigh performance fiber-reinforced concrete beams. II: analysis and design provisions</ref-titletext></ref-title><refd-itemidlist><itemid idtype=\"FRAGMENTID\">b0030</itemid><itemid idtype=\"SGR\">84898861027</itemid></refd-itemidlist><ref-authors><author seq=\"1\"><ce:initials>F.</ce:initials><ce:indexed-name>Baby F.</ce:indexed-name><ce:surname>Baby</ce:surname></author><author seq=\"2\"><ce:initials>P.</ce:initials><ce:indexed-name>Marchand P.</ce:indexed-name><ce:surname>Marchand</ce:surname></author><author seq=\"3\"><ce:initials>F.</ce:initials><ce:indexed-name>Toutlemonde F.</ce:indexed-name><ce:surname>Toutlemonde</ce:surname></author></ref-authors><ref-sourcetitle>J. Struct. Eng.</ref-sourcetitle><ref-publicationyear first=\"2013\"/><ref-volisspag><voliss issue=\"5\" volume=\"140\"/><pagerange first=\"04013112\"/></ref-volisspag></ref-info><ref-fulltext>Baby, F., Marchand, P., Toutlemonde, F., Shear behavior of ultrahigh performance fiber-reinforced concrete beams. II: analysis and design provisions. J. Struct. Eng., 140(5), 2013, 04013112.</ref-fulltext></reference><reference id=\"7\"><ref-info><ref-title><ref-titletext>Experimental study of the punching shear behavior of high performance steel fiber reinforced concrete slabs considering casting directions</ref-titletext></ref-title><refd-itemidlist><itemid idtype=\"FRAGMENTID\">b0035</itemid><itemid idtype=\"SGR\">85029794245</itemid></refd-itemidlist><ref-authors><author seq=\"1\"><ce:initials>T.N.</ce:initials><ce:indexed-name>Nguyen T.N.</ce:indexed-name><ce:surname>Nguyen</ce:surname></author><author seq=\"2\"><ce:initials>T.T.</ce:initials><ce:indexed-name>Nguyen T.T.</ce:indexed-name><ce:surname>Nguyen</ce:surname></author><author seq=\"3\"><ce:initials>W.</ce:initials><ce:indexed-name>Pansuk W.</ce:indexed-name><ce:surname>Pansuk</ce:surname></author></ref-authors><ref-sourcetitle>Eng. Struct.</ref-sourcetitle><ref-publicationyear first=\"2016\"/></ref-info><ref-fulltext>Nguyen, T.N., Nguyen, T.T., Pansuk, W., Experimental study of the punching shear behavior of high performance steel fiber reinforced concrete slabs considering casting directions. Eng. Struct., 2016.</ref-fulltext></reference><reference id=\"8\"><ref-info><ref-title><ref-titletext>Designing and Building with UHPFRC</ref-titletext></ref-title><refd-itemidlist><itemid idtype=\"FRAGMENTID\">b0040</itemid><itemid idtype=\"SGR\">84891585293</itemid></refd-itemidlist><ref-authors><author seq=\"1\"><ce:initials>J.</ce:initials><ce:indexed-name>Resplendino J.</ce:indexed-name><ce:surname>Resplendino</ce:surname></author><author seq=\"2\"><ce:initials>F.</ce:initials><ce:indexed-name>Toulemonde F.</ce:indexed-name><ce:surname>Toulemonde</ce:surname></author></ref-authors><ref-publicationyear first=\"2013\"/><ref-text>John Wiley &amp; Sons</ref-text></ref-info><ref-fulltext>Resplendino, J., Toulemonde, F., Designing and Building with UHPFRC. 2013, John Wiley &amp; Sons.</ref-fulltext></reference><reference id=\"9\"><ref-info><ref-title><ref-titletext>Shear strength of normal and high-strength fiber reinforced concrete beams without stirrups</ref-titletext></ref-title><refd-itemidlist><itemid idtype=\"FRAGMENTID\">b0045</itemid><itemid idtype=\"SGR\">0033102942</itemid></refd-itemidlist><ref-authors><author seq=\"1\"><ce:initials>M.</ce:initials><ce:indexed-name>Khuntia M.</ce:indexed-name><ce:surname>Khuntia</ce:surname></author><author seq=\"2\"><ce:initials>B.</ce:initials><ce:indexed-name>Stojadinovic B.</ce:indexed-name><ce:surname>Stojadinovic</ce:surname></author><author seq=\"3\"><ce:initials>S.C.</ce:initials><ce:indexed-name>Goel S.C.</ce:indexed-name><ce:surname>Goel</ce:surname></author></ref-authors><ref-sourcetitle>Struct. J.</ref-sourcetitle><ref-publicationyear first=\"1999\"/><ref-volisspag><voliss issue=\"2\" volume=\"96\"/><pagerange first=\"282\" last=\"289\"/></ref-volisspag></ref-info><ref-fulltext>Khuntia, M., Stojadinovic, B., Goel, S.C., Shear strength of normal and high-strength fiber reinforced concrete beams without stirrups. Struct. J. 96:2 (1999), 282–289.</ref-fulltext></reference><reference id=\"10\"><ref-info><ref-title><ref-titletext>Steel and synthetic fibers as shear reinforcement</ref-titletext></ref-title><refd-itemidlist><itemid idtype=\"FRAGMENTID\">b0050</itemid><itemid idtype=\"SGR\">0026915118</itemid></refd-itemidlist><ref-authors><author seq=\"1\"><ce:initials>V.C.</ce:initials><ce:indexed-name>Li V.C.</ce:indexed-name><ce:surname>Li</ce:surname></author><author seq=\"2\"><ce:initials>R.</ce:initials><ce:indexed-name>Ward R.</ce:indexed-name><ce:surname>Ward</ce:surname></author><author seq=\"3\"><ce:initials>A.M.</ce:initials><ce:indexed-name>Hamza A.M.</ce:indexed-name><ce:surname>Hamza</ce:surname></author></ref-authors><ref-sourcetitle>ACI Mater. J.</ref-sourcetitle><ref-publicationyear first=\"1992\"/><ref-volisspag><voliss issue=\"5\" volume=\"89\"/><pagerange first=\"499\" last=\"508\"/></ref-volisspag></ref-info><ref-fulltext>Li, V.C., Ward, R., Hamza, A.M., Steel and synthetic fibers as shear reinforcement. ACI Mater. J. 89:5 (1992), 499–508.</ref-fulltext></reference><reference id=\"11\"><ref-info><ref-title><ref-titletext>Shear strength of fibrous concrete beams without stirrups</ref-titletext></ref-title><refd-itemidlist><itemid idtype=\"FRAGMENTID\">b0055</itemid><itemid idtype=\"SGR\">0022787761</itemid></refd-itemidlist><ref-authors><author seq=\"1\"><ce:initials>M.</ce:initials><ce:indexed-name>Mansur M.</ce:indexed-name><ce:surname>Mansur</ce:surname></author><author seq=\"2\"><ce:initials>K.</ce:initials><ce:indexed-name>Ong K.</ce:indexed-name><ce:surname>Ong</ce:surname></author><author seq=\"3\"><ce:initials>P.</ce:initials><ce:indexed-name>Paramasivam P.</ce:indexed-name><ce:surname>Paramasivam</ce:surname></author></ref-authors><ref-sourcetitle>J. Struct. Eng.</ref-sourcetitle><ref-publicationyear first=\"1986\"/><ref-volisspag><voliss issue=\"9\" volume=\"112\"/><pagerange first=\"2066\" last=\"2079\"/></ref-volisspag></ref-info><ref-fulltext>Mansur, M., Ong, K., Paramasivam, P., Shear strength of fibrous concrete beams without stirrups. J. Struct. Eng. 112:9 (1986), 2066–2079.</ref-fulltext></reference><reference id=\"12\"><ref-info><refd-itemidlist><itemid idtype=\"FRAGMENTID\">b0060</itemid><itemid idtype=\"SGR\">85029784475</itemid></refd-itemidlist><ref-authors><author seq=\"1\"><ce:initials>R.</ce:initials><ce:indexed-name>Narayanan R.</ce:indexed-name><ce:surname>Narayanan</ce:surname></author><author seq=\"2\"><ce:initials>I.</ce:initials><ce:indexed-name>Darvish I.</ce:indexed-name><ce:surname>Darvish</ce:surname></author></ref-authors><ref-publicationyear first=\"1987\"/><ref-text>Use of steel fibers as shear reinforcement</ref-text></ref-info><ref-fulltext>R. Narayanan, I. Darvish, Use of steel fibers as shear reinforcement, 1987.</ref-fulltext></reference><reference id=\"13\"><ref-info><ref-title><ref-titletext>Beams of fibrous concrete in shear and bending: experiment and model</ref-titletext></ref-title><refd-itemidlist><itemid idtype=\"FRAGMENTID\">b0065</itemid><itemid idtype=\"SGR\">0033718599</itemid></refd-itemidlist><ref-authors><author seq=\"1\"><ce:initials>K.</ce:initials><ce:indexed-name>Noghabai K.</ce:indexed-name><ce:surname>Noghabai</ce:surname></author></ref-authors><ref-sourcetitle>J. Struct. Eng.</ref-sourcetitle><ref-publicationyear first=\"2000\"/><ref-volisspag><voliss issue=\"2\" volume=\"126\"/><pagerange first=\"243\" last=\"251\"/></ref-volisspag></ref-info><ref-fulltext>Noghabai, K., Beams of fibrous concrete in shear and bending: experiment and model. J. Struct. Eng. 126:2 (2000), 243–251.</ref-fulltext></reference><reference id=\"14\"><ref-info><ref-title><ref-titletext>Can steel fibers replace transverse reinforcements in reinforced concrete beams?</ref-titletext></ref-title><refd-itemidlist><itemid idtype=\"FRAGMENTID\">b0070</itemid><itemid idtype=\"SGR\">0031219760</itemid></refd-itemidlist><ref-authors><author seq=\"1\"><ce:initials>P.</ce:initials><ce:indexed-name>Casanova P.</ce:indexed-name><ce:surname>Casanova</ce:surname></author><author seq=\"2\"><ce:initials>P.</ce:initials><ce:indexed-name>Rossi P.</ce:indexed-name><ce:surname>Rossi</ce:surname></author><author seq=\"3\"><ce:initials>I.</ce:initials><ce:indexed-name>Schaller I.</ce:indexed-name><ce:surname>Schaller</ce:surname></author></ref-authors><ref-sourcetitle>ACI Mater. J.</ref-sourcetitle><ref-publicationyear first=\"1997\"/><ref-volisspag><voliss issue=\"5\" volume=\"94\"/><pagerange first=\"341\" last=\"354\"/></ref-volisspag></ref-info><ref-fulltext>Casanova, P., Rossi, P., Schaller, I., Can steel fibers replace transverse reinforcements in reinforced concrete beams?. ACI Mater. J. 94:5 (1997), 341–354.</ref-fulltext></reference><reference id=\"15\"><ref-info><refd-itemidlist><itemid idtype=\"FRAGMENTID\">b0075</itemid><itemid idtype=\"SGR\">85029821918</itemid></refd-itemidlist><ref-authors><author seq=\"1\"><ce:initials>H.H.</ce:initials><ce:indexed-name>Dinh H.H.</ce:indexed-name><ce:surname>Dinh</ce:surname></author></ref-authors><ref-publicationyear first=\"2009\"/><ref-text>Shear behavior of steel fiber reinforced concrete beams without stirrup reinforcement. University of Toronto</ref-text></ref-info><ref-fulltext>H.H. Dinh, Shear behavior of steel fiber reinforced concrete beams without stirrup reinforcement. University of Toronto, 2009.</ref-fulltext></reference><reference id=\"16\"><ref-info><ref-title><ref-titletext>Shear strength model for steel fiber reinforced concrete beams without stirrup reinforcement</ref-titletext></ref-title><refd-itemidlist><itemid idtype=\"FRAGMENTID\">b0080</itemid><itemid idtype=\"SGR\">81855173729</itemid></refd-itemidlist><ref-authors><author seq=\"1\"><ce:initials>H.H.</ce:initials><ce:indexed-name>Dinh H.H.</ce:indexed-name><ce:surname>Dinh</ce:surname></author><author seq=\"2\"><ce:initials>G.J.</ce:initials><ce:indexed-name>Parra-Montesinos G.J.</ce:indexed-name><ce:surname>Parra-Montesinos</ce:surname></author><author seq=\"3\"><ce:initials>J.K.</ce:initials><ce:indexed-name>Wight J.K.</ce:indexed-name><ce:surname>Wight</ce:surname></author></ref-authors><ref-sourcetitle>J. Struct. Eng.</ref-sourcetitle><ref-publicationyear first=\"2010\"/><ref-volisspag><voliss issue=\"10\" volume=\"137\"/><pagerange first=\"1039\" last=\"1051\"/></ref-volisspag></ref-info><ref-fulltext>Dinh, H.H., Parra-Montesinos, G.J., Wight, J.K., Shear strength model for steel fiber reinforced concrete beams without stirrup reinforcement. J. Struct. Eng. 137:10 (2010), 1039–1051.</ref-fulltext></reference><reference id=\"17\"><ref-info><refd-itemidlist><itemid idtype=\"FRAGMENTID\">b0085</itemid><itemid idtype=\"SGR\">85008442872</itemid></refd-itemidlist><ref-authors><author seq=\"1\"><ce:initials>J.</ce:initials><ce:indexed-name>Hegger J.</ce:indexed-name><ce:surname>Hegger</ce:surname></author><author seq=\"2\"><ce:initials>G.</ce:initials><ce:indexed-name>Bertram G.</ce:indexed-name><ce:surname>Bertram</ce:surname></author></ref-authors><ref-publicationyear first=\"2008\"/><ref-volisspag><pagerange first=\"341\" last=\"347\"/></ref-volisspag><ref-text>Shear carrying capacity of ultra-high performance concrete beams. Tailor Made Concrete Structures. Walraven &amp; Stoelhorst. London</ref-text></ref-info><ref-fulltext>J. Hegger, G. Bertram, Shear carrying capacity of ultra-high performance concrete beams. Tailor Made Concrete Structures. Walraven &amp; Stoelhorst. London, 2008, pp. 341–347.</ref-fulltext></reference><reference id=\"18\"><ref-info><ref-title><ref-titletext>Shear strength of fiber reinforced reactive powder concrete prestressed girders without stirrups</ref-titletext></ref-title><refd-itemidlist><itemid idtype=\"FRAGMENTID\">b0090</itemid><itemid idtype=\"SGR\">33845708783</itemid></refd-itemidlist><ref-authors><author seq=\"1\"><ce:initials>Y.L.</ce:initials><ce:indexed-name>Voo Y.L.</ce:indexed-name><ce:surname>Voo</ce:surname></author><author seq=\"2\"><ce:initials>S.J.</ce:initials><ce:indexed-name>Foster S.J.</ce:indexed-name><ce:surname>Foster</ce:surname></author><author seq=\"3\"><ce:initials>R.I.</ce:initials><ce:indexed-name>Gilbert R.I.</ce:indexed-name><ce:surname>Gilbert</ce:surname></author></ref-authors><ref-sourcetitle>J. Adv. Concr. Technol.</ref-sourcetitle><ref-publicationyear first=\"2006\"/><ref-volisspag><voliss issue=\"1\" volume=\"4\"/><pagerange first=\"123\" last=\"132\"/></ref-volisspag></ref-info><ref-fulltext>Voo, Y.L., Foster, S.J., Gilbert, R.I., Shear strength of fiber reinforced reactive powder concrete prestressed girders without stirrups. J. Adv. Concr. Technol. 4:1 (2006), 123–132.</ref-fulltext></reference><reference id=\"19\"><ref-info><ref-title><ref-titletext>Shear strength of steel fiber-reinforced ultrahigh-performance concrete beams without stirrups</ref-titletext></ref-title><refd-itemidlist><itemid idtype=\"FRAGMENTID\">b0095</itemid><itemid idtype=\"SGR\">77958115543</itemid></refd-itemidlist><ref-authors><author seq=\"1\"><ce:initials>Y.L.</ce:initials><ce:indexed-name>Voo Y.L.</ce:indexed-name><ce:surname>Voo</ce:surname></author><author seq=\"2\"><ce:initials>W.K.</ce:initials><ce:indexed-name>Poon W.K.</ce:indexed-name><ce:surname>Poon</ce:surname></author><author seq=\"3\"><ce:initials>S.J.</ce:initials><ce:indexed-name>Foster S.J.</ce:indexed-name><ce:surname>Foster</ce:surname></author></ref-authors><ref-sourcetitle>J. Struct. Eng.</ref-sourcetitle><ref-publicationyear first=\"2010\"/><ref-volisspag><voliss issue=\"11\" volume=\"136\"/><pagerange first=\"1393\" last=\"1400\"/></ref-volisspag></ref-info><ref-fulltext>Voo, Y.L., Poon, W.K., Foster, S.J., Shear strength of steel fiber-reinforced ultrahigh-performance concrete beams without stirrups. J. Struct. Eng. 136:11 (2010), 1393–1400.</ref-fulltext></reference><reference id=\"20\"><ref-info><ref-title><ref-titletext>Shear domain of fibre-reinforced high-strength concrete beams</ref-titletext></ref-title><refd-itemidlist><itemid idtype=\"FRAGMENTID\">b0100</itemid><itemid idtype=\"SGR\">0031235482</itemid></refd-itemidlist><ref-authors><author seq=\"1\"><ce:initials>M.</ce:initials><ce:indexed-name>Imam M.</ce:indexed-name><ce:surname>Imam</ce:surname></author><et-al/></ref-authors><ref-sourcetitle>Eng. Struct.</ref-sourcetitle><ref-publicationyear first=\"1997\"/><ref-volisspag><voliss issue=\"9\" volume=\"19\"/><pagerange first=\"738\" last=\"747\"/></ref-volisspag></ref-info><ref-fulltext>Imam, M., et al. Shear domain of fibre-reinforced high-strength concrete beams. Eng. Struct. 19:9 (1997), 738–747.</ref-fulltext></reference><reference id=\"21\"><ref-info><ref-title><ref-titletext>Shear strength of steel fiber-reinforced concrete beams without web reinforcement</ref-titletext></ref-title><refd-itemidlist><itemid idtype=\"FRAGMENTID\">b0105</itemid><itemid idtype=\"SGR\">33846966004</itemid></refd-itemidlist><ref-authors><author seq=\"1\"><ce:initials>K.-K.</ce:initials><ce:indexed-name>Choi K.-K.</ce:indexed-name><ce:surname>Choi</ce:surname></author><author seq=\"2\"><ce:initials>P.</ce:initials><ce:indexed-name>Hong-Gun P.</ce:indexed-name><ce:surname>Hong-Gun</ce:surname></author><author seq=\"3\"><ce:initials>J.K.</ce:initials><ce:indexed-name>Wight J.K.</ce:indexed-name><ce:surname>Wight</ce:surname></author></ref-authors><ref-sourcetitle>ACI Struct. J.</ref-sourcetitle><ref-publicationyear first=\"2007\"/><ref-volisspag><voliss issue=\"1\" volume=\"104\"/><pagerange first=\"12\"/></ref-volisspag></ref-info><ref-fulltext>Choi, K.-K., Hong-Gun, P., Wight, J.K., Shear strength of steel fiber-reinforced concrete beams without web reinforcement. ACI Struct. J., 104(1), 2007, 12.</ref-fulltext></reference><reference id=\"22\"><ref-info><ref-title><ref-titletext>Shear behaviour of large-scale rubberized concrete beams reinforced with steel fibres</ref-titletext></ref-title><refd-itemidlist><itemid idtype=\"FRAGMENTID\">b0110</itemid><itemid idtype=\"SGR\">85013910331</itemid></refd-itemidlist><ref-authors><author seq=\"1\"><ce:initials>M.K.</ce:initials><ce:indexed-name>Ismail M.K.</ce:indexed-name><ce:surname>Ismail</ce:surname></author><author seq=\"2\"><ce:initials>A.A.</ce:initials><ce:indexed-name>Hassan A.A.</ce:indexed-name><ce:surname>Hassan</ce:surname></author></ref-authors><ref-sourcetitle>Constr. Build. Mater.</ref-sourcetitle><ref-publicationyear first=\"2017\"/><ref-volisspag><voliss volume=\"140\"/><pagerange first=\"43\" last=\"57\"/></ref-volisspag></ref-info><ref-fulltext>Ismail, M.K., Hassan, A.A., Shear behaviour of large-scale rubberized concrete beams reinforced with steel fibres. Constr. Build. Mater. 140 (2017), 43–57.</ref-fulltext></reference><reference id=\"23\"><ref-info><ref-title><ref-titletext>Shear behaviour and mechanical properties of steel fibre-reinforced cement-based and geopolymer oil palm shell lightweight aggregate concrete</ref-titletext></ref-title><refd-itemidlist><itemid idtype=\"FRAGMENTID\">b0115</itemid><itemid idtype=\"SGR\">85019117185</itemid></refd-itemidlist><ref-authors><author seq=\"1\"><ce:initials>K.H.</ce:initials><ce:indexed-name>Mo K.H.</ce:indexed-name><ce:surname>Mo</ce:surname></author><author seq=\"2\"><ce:initials>K.H.</ce:initials><ce:indexed-name>Yeoh K.H.</ce:indexed-name><ce:surname>Yeoh</ce:surname></author><author seq=\"3\"><ce:initials>I.I.</ce:initials><ce:indexed-name>Bashar I.I.</ce:indexed-name><ce:surname>Bashar</ce:surname></author><author seq=\"4\"><ce:initials>U.J.</ce:initials><ce:indexed-name>Alengaram U.J.</ce:indexed-name><ce:surname>Alengaram</ce:surname></author><author seq=\"5\"><ce:initials>M.Z.</ce:initials><ce:indexed-name>Jumaat M.Z.</ce:indexed-name><ce:surname>Jumaat</ce:surname></author></ref-authors><ref-sourcetitle>Constr. Build. Mater.</ref-sourcetitle><ref-publicationyear first=\"2017\"/><ref-volisspag><voliss volume=\"148\"/><pagerange first=\"369\" last=\"375\"/></ref-volisspag></ref-info><ref-fulltext>Mo, K.H., Yeoh, K.H., Bashar, I.I., Alengaram, U.J., Jumaat, M.Z., Shear behaviour and mechanical properties of steel fibre-reinforced cement-based and geopolymer oil palm shell lightweight aggregate concrete. Constr. Build. Mater. 148 (2017), 369–375.</ref-fulltext></reference><reference id=\"24\"><ref-info><ref-title><ref-titletext>A crack-shear slip model of high-strength steel fiber-reinforced concrete based on a push-off test</ref-titletext></ref-title><refd-itemidlist><itemid idtype=\"FRAGMENTID\">b0120</itemid><itemid idtype=\"SGR\">84989208891</itemid></refd-itemidlist><ref-authors><author seq=\"1\"><ce:initials>P.</ce:initials><ce:indexed-name>Jongvivatsakul P.</ce:indexed-name><ce:surname>Jongvivatsakul</ce:surname></author><author seq=\"2\"><ce:initials>A.</ce:initials><ce:indexed-name>Attachaiyawuth A.</ce:indexed-name><ce:surname>Attachaiyawuth</ce:surname></author><author seq=\"3\"><ce:initials>W.</ce:initials><ce:indexed-name>Pansuk W.</ce:indexed-name><ce:surname>Pansuk</ce:surname></author></ref-authors><ref-sourcetitle>Constr. Build. Mater.</ref-sourcetitle><ref-publicationyear first=\"2016\"/><ref-volisspag><voliss volume=\"126\"/><pagerange first=\"924\" last=\"935\"/></ref-volisspag></ref-info><ref-fulltext>Jongvivatsakul, P., Attachaiyawuth, A., Pansuk, W., A crack-shear slip model of high-strength steel fiber-reinforced concrete based on a push-off test. Constr. Build. Mater. 126 (2016), 924–935.</ref-fulltext></reference><reference id=\"25\"><ref-info><ref-title><ref-titletext>Are steel fibres able to mitigate or eliminate size effect in shear?</ref-titletext></ref-title><refd-itemidlist><itemid idtype=\"FRAGMENTID\">b0125</itemid><itemid idtype=\"SGR\">84895927955</itemid></refd-itemidlist><ref-authors><author seq=\"1\"><ce:initials>F.</ce:initials><ce:indexed-name>Minelli F.</ce:indexed-name><ce:surname>Minelli</ce:surname></author><author seq=\"2\"><ce:initials>A.</ce:initials><ce:indexed-name>Conforti A.</ce:indexed-name><ce:surname>Conforti</ce:surname></author><author seq=\"3\"><ce:initials>E.</ce:initials><ce:indexed-name>Cuenca E.</ce:indexed-name><ce:surname>Cuenca</ce:surname></author><author seq=\"4\"><ce:initials>G.</ce:initials><ce:indexed-name>Plizzari G.</ce:indexed-name><ce:surname>Plizzari</ce:surname></author></ref-authors><ref-sourcetitle>Mater. Struct.</ref-sourcetitle><ref-publicationyear first=\"2014\"/><ref-volisspag><voliss issue=\"3\" volume=\"47\"/><pagerange first=\"459\" last=\"473\"/></ref-volisspag></ref-info><ref-fulltext>Minelli, F., Conforti, A., Cuenca, E., Plizzari, G., Are steel fibres able to mitigate or eliminate size effect in shear?. Mater. Struct. 47:3 (2014), 459–473.</ref-fulltext></reference><reference id=\"26\"><ref-info><ref-title><ref-titletext>Model Code for Concrete Structures 2010</ref-titletext></ref-title><refd-itemidlist><itemid idtype=\"FRAGMENTID\">b0130</itemid><itemid idtype=\"SGR\">84878567311</itemid></refd-itemidlist><ref-authors><collaboration seq=\"1\"><ce:indexed-name>International Federation for Structural Concrete (fib)</ce:indexed-name><ce:text>International Federation for Structural Concrete (fib)</ce:text></collaboration></ref-authors><ref-publicationyear first=\"2013\"/><ref-text>Ernst &amp; Sohn Berlin, Germany p. 434 pages</ref-text></ref-info><ref-fulltext>International Federation for Structural Concrete (fib), Model Code for Concrete Structures 2010. 2013, Ernst &amp; Sohn, Berlin, Germany p. 434 pages.</ref-fulltext></reference><reference id=\"27\"><ref-info><refd-itemidlist><itemid idtype=\"FRAGMENTID\">b0135</itemid><itemid idtype=\"SGR\">85029793812</itemid></refd-itemidlist><ref-publicationyear first=\"2002\"/><ref-text>French Association of Civil Engineering-French Authorities of Civil Engineering Structure Design, a.C., “Ultra high performance fibre-reinforced concretes”. Interim recommendations, Bagneux, France</ref-text></ref-info><ref-fulltext>French Association of Civil Engineering-French Authorities of Civil Engineering Structure Design, a.C., “Ultra high performance fibre-reinforced concretes”. Interim recommendations, Bagneux, France, 2002.</ref-fulltext></reference><reference id=\"28\"><ref-info><refd-itemidlist><itemid idtype=\"FRAGMENTID\">b0140</itemid><itemid idtype=\"SGR\">85029803245</itemid></refd-itemidlist><ref-authors><author seq=\"1\"><ce:initials>C.</ce:initials><ce:indexed-name>EN C.</ce:indexed-name><ce:surname>EN</ce:surname></author></ref-authors><ref-publicationyear first=\"2000\"/><ref-text>12390-1 Testing hardened concrete–Part 1: Shape, dimensions and other requirements for specimens and moulds. European Committee for Standardization</ref-text></ref-info><ref-fulltext>C. EN, 12390-1 Testing hardened concrete–Part 1: Shape, dimensions and other requirements for specimens and moulds. European Committee for Standardization, 2000.</ref-fulltext></reference><reference id=\"29\"><ref-info><ref-title><ref-titletext>12390–2, “Testing Hardened Concrete-Part 2: Making and Curing Specimens for Strength Tests”, in Brussels</ref-titletext></ref-title><refd-itemidlist><itemid idtype=\"FRAGMENTID\">b0145</itemid><itemid idtype=\"SGR\">79958097802</itemid></refd-itemidlist><ref-authors><author seq=\"1\"><ce:initials>B.</ce:initials><ce:indexed-name>En B.</ce:indexed-name><ce:surname>En</ce:surname></author></ref-authors><ref-publicationyear first=\"2009\"/><ref-text>European Committee for Standardization Belgium</ref-text></ref-info><ref-fulltext>En, B., 12390–2, “Testing Hardened Concrete-Part 2: Making and Curing Specimens for Strength Tests”, in Brussels. 2009, European Committee for Standardization, Belgium.</ref-fulltext></reference><reference id=\"30\"><ref-info><ref-title><ref-titletext>Combined effect of steel fibers and reinforcing bars in high performance fiber reinforced concrete</ref-titletext></ref-title><refd-itemidlist><itemid idtype=\"FRAGMENTID\">b0150</itemid><itemid idtype=\"SGR\">85029803142</itemid></refd-itemidlist><ref-authors><author seq=\"1\"><ce:initials>R.</ce:initials><ce:indexed-name>Shionaga R.</ce:indexed-name><ce:surname>Shionaga</ce:surname></author><author seq=\"2\"><ce:initials>J.C.</ce:initials><ce:indexed-name>Walraven J.C.</ce:indexed-name><ce:surname>Walraven</ce:surname></author><author seq=\"3\"><ce:initials>J.A.</ce:initials><ce:indexed-name>den Uijl J.A.</ce:indexed-name><ce:surname>den Uijl</ce:surname></author><author seq=\"4\"><ce:initials>Y.</ce:initials><ce:indexed-name>Sato Y.</ce:indexed-name><ce:surname>Sato</ce:surname></author></ref-authors><ref-sourcetitle>in: sixteenth Internationale Baustofftagung Ibausil</ref-sourcetitle><ref-publicationyear first=\"2006\"/><ref-text>Bauhaus Universitat, Weimar, Germany</ref-text></ref-info><ref-fulltext>R. Shionaga, J.C. Walraven, J.A.den. Uijl, Y. Sato, Combined effect of steel fibers and reinforcing bars in high performance fiber reinforced concrete, in: sixteenth Internationale Baustofftagung Ibausil, Bauhaus Universitat, Weimar, Germany, 2006.</ref-fulltext></reference><reference id=\"31\"><ref-info><ref-title><ref-titletext>Modelling Steel Fibre Reinforced Concrete for Structural Design</ref-titletext></ref-title><refd-itemidlist><itemid idtype=\"FRAGMENTID\">b0155</itemid><itemid idtype=\"SGR\">0003393822</itemid></refd-itemidlist><ref-authors><author seq=\"1\"><ce:initials>A.G.</ce:initials><ce:indexed-name>Kooiman A.G.</ce:indexed-name><ce:surname>Kooiman</ce:surname></author></ref-authors><ref-publicationyear first=\"2000\"/><ref-text>Delft University of Technology TU Delft</ref-text></ref-info><ref-fulltext>Kooiman, A.G., Modelling Steel Fibre Reinforced Concrete for Structural Design. 2000, Delft University of Technology, TU Delft.</ref-fulltext></reference><reference id=\"32\"><ref-info><ref-title><ref-titletext>162-TDF. Test and design methods for steel fibre reinforced concrete</ref-titletext></ref-title><refd-itemidlist><itemid idtype=\"FRAGMENTID\">b0160</itemid><itemid idtype=\"SGR\">0036848343</itemid></refd-itemidlist><ref-authors><author seq=\"1\"><ce:initials>T.</ce:initials><ce:indexed-name>Rilem T.</ce:indexed-name><ce:surname>Rilem</ce:surname></author></ref-authors><ref-sourcetitle>Mater. Struct.</ref-sourcetitle><ref-publicationyear first=\"2002\"/><ref-volisspag><voliss volume=\"35\"/><pagerange first=\"579\" last=\"582\"/></ref-volisspag></ref-info><ref-fulltext>Rilem, T., 162-TDF. Test and design methods for steel fibre reinforced concrete. Mater. Struct. 35 (2002), 579–582.</ref-fulltext></reference><reference id=\"33\"><ref-info><refd-itemidlist><itemid idtype=\"FRAGMENTID\">b0165</itemid><itemid idtype=\"SGR\">85029817426</itemid></refd-itemidlist><ref-authors><author seq=\"1\"><ce:initials>B.</ce:initials><ce:indexed-name>EN B.</ce:indexed-name><ce:surname>EN</ce:surname></author></ref-authors><ref-publicationyear first=\"2000\"/><ref-text>12390-3 (2009), “Testing Hardened Concrete: Compressive Strength of Test Specimens”, in British Standard Institution, London</ref-text></ref-info><ref-fulltext>B. EN, 12390-3 (2009), “Testing Hardened Concrete: Compressive Strength of Test Specimens”, in British Standard Institution, London, 2000.</ref-fulltext></reference><reference id=\"34\"><ref-info><refd-itemidlist><itemid idtype=\"FRAGMENTID\">b0170</itemid><itemid idtype=\"SGR\">85029810807</itemid></refd-itemidlist><ref-authors><author seq=\"1\"><ce:initials>B.</ce:initials><ce:indexed-name>EN B.</ce:indexed-name><ce:surname>EN</ce:surname></author></ref-authors><ref-publicationyear first=\"2009\"/><ref-text>12390-6 (2009), “Testing Hardened Concrete. Tensile Splitting Strength of Test Specimens”, in British Standard Institution, London</ref-text></ref-info><ref-fulltext>B. EN, 12390-6 (2009), “Testing Hardened Concrete. Tensile Splitting Strength of Test Specimens”, in British Standard Institution, London, 2009.</ref-fulltext></reference><reference id=\"35\"><ref-info><ref-title><ref-titletext>High-Performance Hybrid-Fibre Concrete: Development and Utilisation</ref-titletext></ref-title><refd-itemidlist><itemid idtype=\"FRAGMENTID\">b0175</itemid><itemid idtype=\"SGR\">36548998981</itemid></refd-itemidlist><ref-authors><author seq=\"1\"><ce:initials>I.</ce:initials><ce:indexed-name>Markovic I.</ce:indexed-name><ce:surname>Markovic</ce:surname></author></ref-authors><ref-publicationyear first=\"2006\"/><ref-text>Delft University of Technology TU Delft</ref-text></ref-info><ref-fulltext>Markovic, I., High-Performance Hybrid-Fibre Concrete: Development and Utilisation. 2006, Delft University of Technology, TU Delft.</ref-fulltext></reference><reference id=\"36\"><ref-info><ref-title><ref-titletext>Properties of strain hardening ultra high performance fiber reinforced concrete (UHP-FRC) under direct tensile loading</ref-titletext></ref-title><refd-itemidlist><itemid idtype=\"FRAGMENTID\">b0180</itemid><itemid idtype=\"SGR\">84894048225</itemid></refd-itemidlist><ref-authors><author seq=\"1\"><ce:initials>K.</ce:initials><ce:indexed-name>Wille K.</ce:indexed-name><ce:surname>Wille</ce:surname></author><author seq=\"2\"><ce:initials>S.</ce:initials><ce:indexed-name>El-Tawil S.</ce:indexed-name><ce:surname>El-Tawil</ce:surname></author><author seq=\"3\"><ce:initials>A.</ce:initials><ce:indexed-name>Naaman A.</ce:indexed-name><ce:surname>Naaman</ce:surname></author></ref-authors><ref-sourcetitle>Cem. Concr. Compos.</ref-sourcetitle><ref-publicationyear first=\"2014\"/><ref-volisspag><voliss volume=\"48\"/><pagerange first=\"53\" last=\"66\"/></ref-volisspag></ref-info><ref-fulltext>Wille, K., El-Tawil, S., Naaman, A., Properties of strain hardening ultra high performance fiber reinforced concrete (UHP-FRC) under direct tensile loading. Cem. Concr. Compos. 48 (2014), 53–66.</ref-fulltext></reference><reference id=\"37\"><ref-info><ref-title><ref-titletext>Strain-hardening UHP-FRC with low fiber contents</ref-titletext></ref-title><refd-itemidlist><itemid idtype=\"FRAGMENTID\">b0185</itemid><itemid idtype=\"SGR\">79952042260</itemid></refd-itemidlist><ref-authors><author seq=\"1\"><ce:initials>K.</ce:initials><ce:indexed-name>Wille K.</ce:indexed-name><ce:surname>Wille</ce:surname></author><author seq=\"2\"><ce:initials>D.J.</ce:initials><ce:indexed-name>Kim D.J.</ce:indexed-name><ce:surname>Kim</ce:surname></author><author seq=\"3\"><ce:initials>A.E.</ce:initials><ce:indexed-name>Naaman A.E.</ce:indexed-name><ce:surname>Naaman</ce:surname></author></ref-authors><ref-sourcetitle>Mater. Struct.</ref-sourcetitle><ref-publicationyear first=\"2011\"/><ref-volisspag><voliss issue=\"3\" volume=\"44\"/><pagerange first=\"583\" last=\"598\"/></ref-volisspag></ref-info><ref-fulltext>Wille, K., Kim, D.J., Naaman, A.E., Strain-hardening UHP-FRC with low fiber contents. Mater. Struct. 44:3 (2011), 583–598.</ref-fulltext></reference><reference id=\"38\"><ref-info><ref-title><ref-titletext>Tensile behavior of ultra high performance hybrid fiber reinforced concrete</ref-titletext></ref-title><refd-itemidlist><itemid idtype=\"FRAGMENTID\">b0190</itemid><itemid idtype=\"SGR\">84655166975</itemid></refd-itemidlist><ref-authors><author seq=\"1\"><ce:initials>S.H.</ce:initials><ce:indexed-name>Park S.H.</ce:indexed-name><ce:surname>Park</ce:surname></author><author seq=\"2\"><ce:initials>D.J.</ce:initials><ce:indexed-name>Kim D.J.</ce:indexed-name><ce:surname>Kim</ce:surname></author><author seq=\"3\"><ce:initials>G.S.</ce:initials><ce:indexed-name>Ryu G.S.</ce:indexed-name><ce:surname>Ryu</ce:surname></author><author seq=\"4\"><ce:initials>K.T.</ce:initials><ce:indexed-name>Koh K.T.</ce:indexed-name><ce:surname>Koh</ce:surname></author></ref-authors><ref-sourcetitle>Cem. Concr. Compos.</ref-sourcetitle><ref-publicationyear first=\"2012\"/><ref-volisspag><voliss issue=\"2\" volume=\"34\"/><pagerange first=\"172\" last=\"184\"/></ref-volisspag></ref-info><ref-fulltext>Park, S.H., Kim, D.J., Ryu, G.S., Koh, K.T., Tensile behavior of ultra high performance hybrid fiber reinforced concrete. Cem. Concr. Compos. 34:2 (2012), 172–184.</ref-fulltext></reference><reference id=\"39\"><ref-info><refd-itemidlist><itemid idtype=\"FRAGMENTID\">b0195</itemid><itemid idtype=\"SGR\">85029801969</itemid></refd-itemidlist><ref-authors><author seq=\"1\"><ce:initials>B.S.</ce:initials><ce:indexed-name>Institution B.S.</ce:indexed-name><ce:surname>Institution</ce:surname></author></ref-authors><ref-publicationyear first=\"2004\"/><ref-text>Eurocode 2: Design of Concrete Structures: Part 1-1: General Rules and Rules for Buildings. British Standards Institution</ref-text></ref-info><ref-fulltext>B. S. Institution, Eurocode 2: Design of Concrete Structures: Part 1-1: General Rules and Rules for Buildings. British Standards Institution, 2004.</ref-fulltext></reference><reference id=\"40\"><ref-info><ref-title><ref-titletext>Ultimate Shear Strength of Ultra High Performance Fibre Reinforced Concrete Beams.</ref-titletext></ref-title><refd-itemidlist><itemid idtype=\"FRAGMENTID\">b0200</itemid><itemid idtype=\"SGR\">85029802112</itemid></refd-itemidlist><ref-authors><author seq=\"1\"><ce:initials>F.</ce:initials><ce:indexed-name>Baby F.</ce:indexed-name><ce:surname>Baby</ce:surname></author><author seq=\"2\"><ce:initials>J.</ce:initials><ce:indexed-name>Billo J.</ce:indexed-name><ce:surname>Billo</ce:surname></author><author seq=\"3\"><ce:initials>J.C.</ce:initials><ce:indexed-name>Renaud J.C.</ce:indexed-name><ce:surname>Renaud</ce:surname></author><author seq=\"4\"><ce:initials>C.</ce:initials><ce:indexed-name>Massotte C.</ce:indexed-name><ce:surname>Massotte</ce:surname></author><author seq=\"5\"><ce:initials>P.</ce:initials><ce:indexed-name>Marchand P.</ce:indexed-name><ce:surname>Marchand</ce:surname></author><author seq=\"6\"><ce:initials>F.</ce:initials><ce:indexed-name>Toutlemonde F.</ce:indexed-name><ce:surname>Toutlemonde</ce:surname></author></ref-authors><ref-sourcetitle>in Hipermat</ref-sourcetitle><ref-publicationyear first=\"2012\"/><ref-volisspag><pagerange first=\"8\"/></ref-volisspag></ref-info><ref-fulltext>F. Baby, J. Billo, J.C. Renaud, C. Massotte, P. Marchand, F. Toutlemonde, Ultimate Shear Strength of Ultra High Performance Fibre Reinforced Concrete Beams. in Hipermat, 2012, p. 8.</ref-fulltext></reference><reference id=\"41\"><ref-info><ref-title><ref-titletext>Diagonal tensile failure mechanism of reinforced concrete beams</ref-titletext></ref-title><refd-itemidlist><itemid idtype=\"FRAGMENTID\">b0205</itemid><itemid idtype=\"SGR\">11344262695</itemid></refd-itemidlist><ref-authors><author seq=\"1\"><ce:initials>Y.</ce:initials><ce:indexed-name>Sato Y.</ce:indexed-name><ce:surname>Sato</ce:surname></author><author seq=\"2\"><ce:initials>T.</ce:initials><ce:indexed-name>Tadokoro T.</ce:indexed-name><ce:surname>Tadokoro</ce:surname></author><author seq=\"3\"><ce:initials>T.</ce:initials><ce:indexed-name>Ueda T.</ce:indexed-name><ce:surname>Ueda</ce:surname></author></ref-authors><ref-sourcetitle>J. Adv. Concr. Technol.</ref-sourcetitle><ref-publicationyear first=\"2004\"/><ref-volisspag><voliss issue=\"3\" volume=\"2\"/><pagerange first=\"327\" last=\"341\"/></ref-volisspag></ref-info><ref-fulltext>Sato, Y., Tadokoro, T., Ueda, T., Diagonal tensile failure mechanism of reinforced concrete beams. J. Adv. Concr. Technol. 2:3 (2004), 327–341.</ref-fulltext></reference></bibliography></tail></bibrecord></item></abstracts-retrieval-response>\n",
      "root\n",
      " |-- _corrupt_record: string (nullable = true)\n",
      "\n"
     ]
    }
   ],
   "source": [
    "# for id in scopus_ids:\n",
    "url = f\"https://api.elsevier.com/content/abstract/scopus_id/SCOPUS_ID:85029781991?view=FULL&httpAccess=application%2Fjson&apiKey={api_key}\"\n",
    "res = requests.get(url)\n",
    "print(res.text)\n",
    "\n",
    "df = spark.read.option(\"multiline\", True).json(sc.parallelize([res.text]))\n",
    "\n",
    "df.printSchema()\n",
    "\n"
   ]
  },
  {
   "cell_type": "code",
   "execution_count": 91,
   "metadata": {},
   "outputs": [
    {
     "name": "stdout",
     "output_type": "stream",
     "text": [
      "root\n",
      " |-- search-results: struct (nullable = true)\n",
      " |    |-- entry: array (nullable = true)\n",
      " |    |    |-- element: struct (containsNull = true)\n",
      " |    |    |    |-- @_fa: string (nullable = true)\n",
      " |    |    |    |-- affiliation: array (nullable = true)\n",
      " |    |    |    |    |-- element: struct (containsNull = true)\n",
      " |    |    |    |    |    |-- @_fa: string (nullable = true)\n",
      " |    |    |    |    |    |-- affiliation-city: string (nullable = true)\n",
      " |    |    |    |    |    |-- affiliation-country: string (nullable = true)\n",
      " |    |    |    |    |    |-- affiliation-url: string (nullable = true)\n",
      " |    |    |    |    |    |-- affilname: string (nullable = true)\n",
      " |    |    |    |    |    |-- afid: string (nullable = true)\n",
      " |    |    |    |-- article-number: string (nullable = true)\n",
      " |    |    |    |-- authkeywords: string (nullable = true)\n",
      " |    |    |    |-- author: array (nullable = true)\n",
      " |    |    |    |    |-- element: struct (containsNull = true)\n",
      " |    |    |    |    |    |-- @_fa: string (nullable = true)\n",
      " |    |    |    |    |    |-- @seq: string (nullable = true)\n",
      " |    |    |    |    |    |-- afid: array (nullable = true)\n",
      " |    |    |    |    |    |    |-- element: struct (containsNull = true)\n",
      " |    |    |    |    |    |    |    |-- $: string (nullable = true)\n",
      " |    |    |    |    |    |    |    |-- @_fa: string (nullable = true)\n",
      " |    |    |    |    |    |-- authid: string (nullable = true)\n",
      " |    |    |    |    |    |-- authname: string (nullable = true)\n",
      " |    |    |    |    |    |-- author-url: string (nullable = true)\n",
      " |    |    |    |    |    |-- given-name: string (nullable = true)\n",
      " |    |    |    |    |    |-- initials: string (nullable = true)\n",
      " |    |    |    |    |    |-- surname: string (nullable = true)\n",
      " |    |    |    |-- author-count: struct (nullable = true)\n",
      " |    |    |    |    |-- $: string (nullable = true)\n",
      " |    |    |    |    |-- @limit: string (nullable = true)\n",
      " |    |    |    |    |-- @total: string (nullable = true)\n",
      " |    |    |    |-- citedby-count: string (nullable = true)\n",
      " |    |    |    |-- dc:creator: string (nullable = true)\n",
      " |    |    |    |-- dc:description: string (nullable = true)\n",
      " |    |    |    |-- dc:identifier: string (nullable = true)\n",
      " |    |    |    |-- dc:title: string (nullable = true)\n",
      " |    |    |    |-- eid: string (nullable = true)\n",
      " |    |    |    |-- freetoread: struct (nullable = true)\n",
      " |    |    |    |    |-- value: array (nullable = true)\n",
      " |    |    |    |    |    |-- element: struct (containsNull = true)\n",
      " |    |    |    |    |    |    |-- $: string (nullable = true)\n",
      " |    |    |    |-- freetoreadLabel: struct (nullable = true)\n",
      " |    |    |    |    |-- value: array (nullable = true)\n",
      " |    |    |    |    |    |-- element: struct (containsNull = true)\n",
      " |    |    |    |    |    |    |-- $: string (nullable = true)\n",
      " |    |    |    |-- fund-acr: string (nullable = true)\n",
      " |    |    |    |-- fund-no: string (nullable = true)\n",
      " |    |    |    |-- fund-sponsor: string (nullable = true)\n",
      " |    |    |    |-- link: array (nullable = true)\n",
      " |    |    |    |    |-- element: struct (containsNull = true)\n",
      " |    |    |    |    |    |-- @_fa: string (nullable = true)\n",
      " |    |    |    |    |    |-- @href: string (nullable = true)\n",
      " |    |    |    |    |    |-- @ref: string (nullable = true)\n",
      " |    |    |    |-- openaccess: string (nullable = true)\n",
      " |    |    |    |-- openaccessFlag: boolean (nullable = true)\n",
      " |    |    |    |-- prism:aggregationType: string (nullable = true)\n",
      " |    |    |    |-- prism:coverDate: string (nullable = true)\n",
      " |    |    |    |-- prism:coverDisplayDate: string (nullable = true)\n",
      " |    |    |    |-- prism:doi: string (nullable = true)\n",
      " |    |    |    |-- prism:eIssn: string (nullable = true)\n",
      " |    |    |    |-- prism:issueIdentifier: string (nullable = true)\n",
      " |    |    |    |-- prism:pageRange: string (nullable = true)\n",
      " |    |    |    |-- prism:publicationName: string (nullable = true)\n",
      " |    |    |    |-- prism:url: string (nullable = true)\n",
      " |    |    |    |-- prism:volume: string (nullable = true)\n",
      " |    |    |    |-- pubmed-id: string (nullable = true)\n",
      " |    |    |    |-- source-id: string (nullable = true)\n",
      " |    |    |    |-- subtype: string (nullable = true)\n",
      " |    |    |    |-- subtypeDescription: string (nullable = true)\n",
      " |    |-- link: array (nullable = true)\n",
      " |    |    |-- element: struct (containsNull = true)\n",
      " |    |    |    |-- @_fa: string (nullable = true)\n",
      " |    |    |    |-- @href: string (nullable = true)\n",
      " |    |    |    |-- @ref: string (nullable = true)\n",
      " |    |    |    |-- @type: string (nullable = true)\n",
      " |    |-- opensearch:Query: struct (nullable = true)\n",
      " |    |    |-- @role: string (nullable = true)\n",
      " |    |    |-- @searchTerms: string (nullable = true)\n",
      " |    |    |-- @startPage: string (nullable = true)\n",
      " |    |-- opensearch:itemsPerPage: string (nullable = true)\n",
      " |    |-- opensearch:startIndex: string (nullable = true)\n",
      " |    |-- opensearch:totalResults: string (nullable = true)\n",
      "\n"
     ]
    }
   ],
   "source": [
    "df = spark.read.json(sc.parallelize([res.text]))\n",
    "\n",
    "df.printSchema()"
   ]
  },
  {
   "cell_type": "code",
   "execution_count": 92,
   "metadata": {},
   "outputs": [
    {
     "name": "stdout",
     "output_type": "stream",
     "text": [
      "+--------------------+\n",
      "|               entry|\n",
      "+--------------------+\n",
      "|{true, [{true, Is...|\n",
      "|{true, [{true, Ba...|\n",
      "|{true, [{true, Ba...|\n",
      "|{true, [{true, Ba...|\n",
      "|{true, [{true, Ba...|\n",
      "+--------------------+\n",
      "\n",
      "root\n",
      " |-- entry: struct (nullable = true)\n",
      " |    |-- @_fa: string (nullable = true)\n",
      " |    |-- affiliation: array (nullable = true)\n",
      " |    |    |-- element: struct (containsNull = true)\n",
      " |    |    |    |-- @_fa: string (nullable = true)\n",
      " |    |    |    |-- affiliation-city: string (nullable = true)\n",
      " |    |    |    |-- affiliation-country: string (nullable = true)\n",
      " |    |    |    |-- affiliation-url: string (nullable = true)\n",
      " |    |    |    |-- affilname: string (nullable = true)\n",
      " |    |    |    |-- afid: string (nullable = true)\n",
      " |    |-- article-number: string (nullable = true)\n",
      " |    |-- authkeywords: string (nullable = true)\n",
      " |    |-- author: array (nullable = true)\n",
      " |    |    |-- element: struct (containsNull = true)\n",
      " |    |    |    |-- @_fa: string (nullable = true)\n",
      " |    |    |    |-- @seq: string (nullable = true)\n",
      " |    |    |    |-- afid: array (nullable = true)\n",
      " |    |    |    |    |-- element: struct (containsNull = true)\n",
      " |    |    |    |    |    |-- $: string (nullable = true)\n",
      " |    |    |    |    |    |-- @_fa: string (nullable = true)\n",
      " |    |    |    |-- authid: string (nullable = true)\n",
      " |    |    |    |-- authname: string (nullable = true)\n",
      " |    |    |    |-- author-url: string (nullable = true)\n",
      " |    |    |    |-- given-name: string (nullable = true)\n",
      " |    |    |    |-- initials: string (nullable = true)\n",
      " |    |    |    |-- surname: string (nullable = true)\n",
      " |    |-- author-count: struct (nullable = true)\n",
      " |    |    |-- $: string (nullable = true)\n",
      " |    |    |-- @limit: string (nullable = true)\n",
      " |    |    |-- @total: string (nullable = true)\n",
      " |    |-- citedby-count: string (nullable = true)\n",
      " |    |-- dc:creator: string (nullable = true)\n",
      " |    |-- dc:description: string (nullable = true)\n",
      " |    |-- dc:identifier: string (nullable = true)\n",
      " |    |-- dc:title: string (nullable = true)\n",
      " |    |-- eid: string (nullable = true)\n",
      " |    |-- freetoread: struct (nullable = true)\n",
      " |    |    |-- value: array (nullable = true)\n",
      " |    |    |    |-- element: struct (containsNull = true)\n",
      " |    |    |    |    |-- $: string (nullable = true)\n",
      " |    |-- freetoreadLabel: struct (nullable = true)\n",
      " |    |    |-- value: array (nullable = true)\n",
      " |    |    |    |-- element: struct (containsNull = true)\n",
      " |    |    |    |    |-- $: string (nullable = true)\n",
      " |    |-- fund-acr: string (nullable = true)\n",
      " |    |-- fund-no: string (nullable = true)\n",
      " |    |-- fund-sponsor: string (nullable = true)\n",
      " |    |-- link: array (nullable = true)\n",
      " |    |    |-- element: struct (containsNull = true)\n",
      " |    |    |    |-- @_fa: string (nullable = true)\n",
      " |    |    |    |-- @href: string (nullable = true)\n",
      " |    |    |    |-- @ref: string (nullable = true)\n",
      " |    |-- openaccess: string (nullable = true)\n",
      " |    |-- openaccessFlag: boolean (nullable = true)\n",
      " |    |-- prism:aggregationType: string (nullable = true)\n",
      " |    |-- prism:coverDate: string (nullable = true)\n",
      " |    |-- prism:coverDisplayDate: string (nullable = true)\n",
      " |    |-- prism:doi: string (nullable = true)\n",
      " |    |-- prism:eIssn: string (nullable = true)\n",
      " |    |-- prism:issueIdentifier: string (nullable = true)\n",
      " |    |-- prism:pageRange: string (nullable = true)\n",
      " |    |-- prism:publicationName: string (nullable = true)\n",
      " |    |-- prism:url: string (nullable = true)\n",
      " |    |-- prism:volume: string (nullable = true)\n",
      " |    |-- pubmed-id: string (nullable = true)\n",
      " |    |-- source-id: string (nullable = true)\n",
      " |    |-- subtype: string (nullable = true)\n",
      " |    |-- subtypeDescription: string (nullable = true)\n",
      "\n"
     ]
    }
   ],
   "source": [
    "df = df.withColumn(\"entry\", F.explode(df[\"search-results.entry\"]))\n",
    "df = df.drop(\"search-results\")\n",
    "\n",
    "df.show()\n",
    "df.printSchema()"
   ]
  },
  {
   "cell_type": "code",
   "execution_count": 96,
   "metadata": {},
   "outputs": [
    {
     "name": "stdout",
     "output_type": "stream",
     "text": [
      "+--------------------+--------------------+--------------------+--------------+--------------------+--------------------+\n",
      "|               entry|               title|                  id|citation_count|             authors|         affiliatons|\n",
      "+--------------------+--------------------+--------------------+--------------+--------------------+--------------------+\n",
      "|{true, [{true, Is...|Anti-Plasmodium v...|SCOPUS_ID:8519139...|             0|[Kuamsab N., Puta...|[Tokai University...|\n",
      "|{true, [{true, Ba...|Comprehensive gen...|SCOPUS_ID:8519126...|             0|[Buthasane W., Sh...|[Siriraj Hospital...|\n",
      "|{true, [{true, Ba...|Influence of phar...|SCOPUS_ID:8519105...|             0|[Sornsamdang G., ...|[Ramathibodi Hosp...|\n",
      "|{true, [{true, Ba...|Anti-inflammatory...|SCOPUS_ID:8519103...|             0|[Kasetsuwan N., R...|[Ramkhamhaeng Uni...|\n",
      "|{true, [{true, Ba...|Diverse effects o...|SCOPUS_ID:8519082...|             0|[Pichetkun V., Kh...|[Chulalongkorn Un...|\n",
      "+--------------------+--------------------+--------------------+--------------+--------------------+--------------------+\n",
      "\n",
      "root\n",
      " |-- entry: struct (nullable = true)\n",
      " |    |-- @_fa: string (nullable = true)\n",
      " |    |-- affiliation: array (nullable = true)\n",
      " |    |    |-- element: struct (containsNull = true)\n",
      " |    |    |    |-- @_fa: string (nullable = true)\n",
      " |    |    |    |-- affiliation-city: string (nullable = true)\n",
      " |    |    |    |-- affiliation-country: string (nullable = true)\n",
      " |    |    |    |-- affiliation-url: string (nullable = true)\n",
      " |    |    |    |-- affilname: string (nullable = true)\n",
      " |    |    |    |-- afid: string (nullable = true)\n",
      " |    |-- article-number: string (nullable = true)\n",
      " |    |-- authkeywords: string (nullable = true)\n",
      " |    |-- author: array (nullable = true)\n",
      " |    |    |-- element: struct (containsNull = true)\n",
      " |    |    |    |-- @_fa: string (nullable = true)\n",
      " |    |    |    |-- @seq: string (nullable = true)\n",
      " |    |    |    |-- afid: array (nullable = true)\n",
      " |    |    |    |    |-- element: struct (containsNull = true)\n",
      " |    |    |    |    |    |-- $: string (nullable = true)\n",
      " |    |    |    |    |    |-- @_fa: string (nullable = true)\n",
      " |    |    |    |-- authid: string (nullable = true)\n",
      " |    |    |    |-- authname: string (nullable = true)\n",
      " |    |    |    |-- author-url: string (nullable = true)\n",
      " |    |    |    |-- given-name: string (nullable = true)\n",
      " |    |    |    |-- initials: string (nullable = true)\n",
      " |    |    |    |-- surname: string (nullable = true)\n",
      " |    |-- author-count: struct (nullable = true)\n",
      " |    |    |-- $: string (nullable = true)\n",
      " |    |    |-- @limit: string (nullable = true)\n",
      " |    |    |-- @total: string (nullable = true)\n",
      " |    |-- citedby-count: string (nullable = true)\n",
      " |    |-- dc:creator: string (nullable = true)\n",
      " |    |-- dc:description: string (nullable = true)\n",
      " |    |-- dc:identifier: string (nullable = true)\n",
      " |    |-- dc:title: string (nullable = true)\n",
      " |    |-- eid: string (nullable = true)\n",
      " |    |-- freetoread: struct (nullable = true)\n",
      " |    |    |-- value: array (nullable = true)\n",
      " |    |    |    |-- element: struct (containsNull = true)\n",
      " |    |    |    |    |-- $: string (nullable = true)\n",
      " |    |-- freetoreadLabel: struct (nullable = true)\n",
      " |    |    |-- value: array (nullable = true)\n",
      " |    |    |    |-- element: struct (containsNull = true)\n",
      " |    |    |    |    |-- $: string (nullable = true)\n",
      " |    |-- fund-acr: string (nullable = true)\n",
      " |    |-- fund-no: string (nullable = true)\n",
      " |    |-- fund-sponsor: string (nullable = true)\n",
      " |    |-- link: array (nullable = true)\n",
      " |    |    |-- element: struct (containsNull = true)\n",
      " |    |    |    |-- @_fa: string (nullable = true)\n",
      " |    |    |    |-- @href: string (nullable = true)\n",
      " |    |    |    |-- @ref: string (nullable = true)\n",
      " |    |-- openaccess: string (nullable = true)\n",
      " |    |-- openaccessFlag: boolean (nullable = true)\n",
      " |    |-- prism:aggregationType: string (nullable = true)\n",
      " |    |-- prism:coverDate: string (nullable = true)\n",
      " |    |-- prism:coverDisplayDate: string (nullable = true)\n",
      " |    |-- prism:doi: string (nullable = true)\n",
      " |    |-- prism:eIssn: string (nullable = true)\n",
      " |    |-- prism:issueIdentifier: string (nullable = true)\n",
      " |    |-- prism:pageRange: string (nullable = true)\n",
      " |    |-- prism:publicationName: string (nullable = true)\n",
      " |    |-- prism:url: string (nullable = true)\n",
      " |    |-- prism:volume: string (nullable = true)\n",
      " |    |-- pubmed-id: string (nullable = true)\n",
      " |    |-- source-id: string (nullable = true)\n",
      " |    |-- subtype: string (nullable = true)\n",
      " |    |-- subtypeDescription: string (nullable = true)\n",
      " |-- title: string (nullable = true)\n",
      " |-- id: string (nullable = true)\n",
      " |-- citation_count: string (nullable = true)\n",
      " |-- authors: array (nullable = true)\n",
      " |    |-- element: string (containsNull = true)\n",
      " |-- affiliatons: array (nullable = true)\n",
      " |    |-- element: string (containsNull = true)\n",
      "\n"
     ]
    }
   ],
   "source": [
    "base_path = \"entry\"\n",
    "\n",
    "df = (df.withColumn(\"title\", F.col(base_path + \".dc:title\"))\n",
    ".withColumn(\"id\", F.col(base_path + \".dc:identifier\"))\n",
    ".withColumn(\"citation_count\", F.col(base_path + \".citedby-count\"))\n",
    ".withColumn(\"authors\", F.col(base_path + \".author.authname\"))\n",
    ".withColumn(\"affiliatons\", F.col(base_path + \".affiliation.affilname\"))\n",
    ")\n",
    "\n",
    "df.show()\n",
    "df.printSchema()"
   ]
  },
  {
   "cell_type": "code",
   "execution_count": 102,
   "metadata": {},
   "outputs": [
    {
     "name": "stdout",
     "output_type": "stream",
     "text": [
      "[Row(id='SCOPUS_ID:85191399900'), Row(id='SCOPUS_ID:85191260059'), Row(id='SCOPUS_ID:85191056042'), Row(id='SCOPUS_ID:85191032017'), Row(id='SCOPUS_ID:85190822580')]\n"
     ]
    }
   ],
   "source": [
    "scopus_ids = df.select(F.col(\"id\")).collect()\n",
    "\n",
    "for id in scopus_ids:\n",
    "    \n"
   ]
  }
 ],
 "metadata": {
  "kernelspec": {
   "display_name": ".venv",
   "language": "python",
   "name": "python3"
  },
  "language_info": {
   "codemirror_mode": {
    "name": "ipython",
    "version": 3
   },
   "file_extension": ".py",
   "mimetype": "text/x-python",
   "name": "python",
   "nbconvert_exporter": "python",
   "pygments_lexer": "ipython3",
   "version": "3.12.3"
  }
 },
 "nbformat": 4,
 "nbformat_minor": 2
}
