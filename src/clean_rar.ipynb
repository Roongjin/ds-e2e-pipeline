{
 "cells": [
  {
   "cell_type": "code",
   "execution_count": 4,
   "metadata": {},
   "outputs": [],
   "source": [
    "import glob"
   ]
  },
  {
   "cell_type": "code",
   "execution_count": 3,
   "metadata": {},
   "outputs": [],
   "source": [
    "import findspark\n",
    "findspark.init(\"/Users/roongkun/spark-3.5.1-bin-hadoop3/\")\n",
    "\n",
    "\n",
    "\n"
   ]
  },
  {
   "cell_type": "code",
   "execution_count": 5,
   "metadata": {},
   "outputs": [],
   "source": [
    "spark_url = 'local'"
   ]
  },
  {
   "cell_type": "code",
   "execution_count": 6,
   "metadata": {},
   "outputs": [],
   "source": [
    "from pyspark.sql import SparkSession\n",
    "import pyspark.sql.functions as F\n",
    "from pyspark.sql.types import ArrayType, StructType"
   ]
  },
  {
   "cell_type": "code",
   "execution_count": 7,
   "metadata": {},
   "outputs": [
    {
     "name": "stderr",
     "output_type": "stream",
     "text": [
      "24/05/03 02:11:48 WARN Utils: Your hostname, Roongkuns-MacBook-Pro-2.local resolves to a loopback address: 127.0.0.1; using 192.168.1.188 instead (on interface en0)\n",
      "24/05/03 02:11:48 WARN Utils: Set SPARK_LOCAL_IP if you need to bind to another address\n",
      "Setting default log level to \"WARN\".\n",
      "To adjust logging level use sc.setLogLevel(newLevel). For SparkR, use setLogLevel(newLevel).\n",
      "24/05/03 02:11:49 WARN NativeCodeLoader: Unable to load native-hadoop library for your platform... using builtin-java classes where applicable\n",
      "24/05/03 02:11:49 WARN Utils: Service 'SparkUI' could not bind on port 4040. Attempting port 4041.\n"
     ]
    }
   ],
   "source": [
    "spark = SparkSession.builder\\\n",
    "        .master(spark_url)\\\n",
    "        .appName('Spark SQL')\\\n",
    "        .getOrCreate()"
   ]
  },
  {
   "cell_type": "code",
   "execution_count": 61,
   "metadata": {},
   "outputs": [],
   "source": [
    "base_path = \"abstracts-retrieval-response\"\n",
    "for file in list(glob.glob(\"2023*.json\")):\n",
    "    try: \n",
    "        df = spark.read.option(\"multiline\", True).json(file)\n",
    "\n",
    "        is_authors_struct = isinstance(df.schema[base_path].dataType[\"authors\"].dataType[\"author\"].dataType, StructType)\n",
    "        is_affiliations_struct = isinstance(df.schema[base_path].dataType[\"affiliation\"].dataType, StructType)\n",
    "\n",
    "        df = (df.withColumn(\"title\", df[base_path + \".coredata.dc:title\"])\n",
    "        .withColumn(\"id\", df[base_path + \".coredata.dc:identifier\"])\n",
    "        .withColumn(\"subject-area\",F.col(base_path + \".subject-areas.subject-area.$\"))\n",
    "        .withColumn(\"year\", F.col(base_path + \".item.bibrecord.head.source.publicationdate.year\"))\n",
    "        .withColumn(\"citation_count\", F.col(base_path + \".coredata.citedby-count\"))\n",
    "        )\n",
    "\n",
    "        if is_authors_struct:\n",
    "            authors_array = F.array(df[base_path + \".authors.author\"])\n",
    "            df = df.withColumn(\"authors\", authors_array)\n",
    "        else:\n",
    "            df = df.withColumn(\"authors\", F.col(base_path + \".authors.author\"))\n",
    "        \n",
    "\n",
    "        if is_affiliations_struct:\n",
    "            affiliations_array = F.array(df[base_path + \".affiliation\"])\n",
    "            df = df.withColumn(\"affiliations\", affiliations_array)\n",
    "        else:\n",
    "            df = df.withColumn(\"affiliations\", F.col(base_path + \".affiliation\"))\n",
    "        \n",
    "\n",
    "\n",
    "        df = df.drop(base_path)\n",
    "        df.write.mode(\"append\").json(\"c2023\")\n",
    "    except Exception as e:\n",
    "        print(f\"Error processing file {file}: {e}\")"
   ]
  },
  {
   "cell_type": "markdown",
   "metadata": {},
   "source": [
    "#Testing"
   ]
  },
  {
   "cell_type": "code",
   "execution_count": 8,
   "metadata": {},
   "outputs": [
    {
     "name": "stdout",
     "output_type": "stream",
     "text": [
      "root\n",
      " |-- affiliations: array (nullable = true)\n",
      " |    |-- element: struct (containsNull = true)\n",
      " |    |    |-- @href: string (nullable = true)\n",
      " |    |    |-- @id: string (nullable = true)\n",
      " |    |    |-- affiliation-city: string (nullable = true)\n",
      " |    |    |-- affiliation-country: string (nullable = true)\n",
      " |    |    |-- affilname: string (nullable = true)\n",
      " |-- authors: array (nullable = true)\n",
      " |    |-- element: struct (containsNull = true)\n",
      " |    |    |-- @_fa: string (nullable = true)\n",
      " |    |    |-- @auid: string (nullable = true)\n",
      " |    |    |-- @seq: string (nullable = true)\n",
      " |    |    |-- affiliation: string (nullable = true)\n",
      " |    |    |-- author-url: string (nullable = true)\n",
      " |    |    |-- ce:alias: string (nullable = true)\n",
      " |    |    |-- ce:alt-name: string (nullable = true)\n",
      " |    |    |-- ce:degrees: string (nullable = true)\n",
      " |    |    |-- ce:given-name: string (nullable = true)\n",
      " |    |    |-- ce:indexed-name: string (nullable = true)\n",
      " |    |    |-- ce:initials: string (nullable = true)\n",
      " |    |    |-- ce:suffix: string (nullable = true)\n",
      " |    |    |-- ce:surname: string (nullable = true)\n",
      " |    |    |-- preferred-name: struct (nullable = true)\n",
      " |    |    |    |-- ce:given-name: string (nullable = true)\n",
      " |    |    |    |-- ce:indexed-name: string (nullable = true)\n",
      " |    |    |    |-- ce:initials: string (nullable = true)\n",
      " |    |    |    |-- ce:surname: string (nullable = true)\n",
      " |-- citation_count: string (nullable = true)\n",
      " |-- id: string (nullable = true)\n",
      " |-- subject-area: array (nullable = true)\n",
      " |    |-- element: string (containsNull = true)\n",
      " |-- title: string (nullable = true)\n",
      " |-- year: string (nullable = true)\n",
      "\n"
     ]
    }
   ],
   "source": [
    "df = spark.read.json(\"c2023/2023.json\")\n",
    "\n",
    "df.printSchema(False)"
   ]
  },
  {
   "cell_type": "code",
   "execution_count": 10,
   "metadata": {},
   "outputs": [
    {
     "name": "stdout",
     "output_type": "stream",
     "text": [
      "+--------------------+\n",
      "|                 col|\n",
      "+--------------------+\n",
      "|Chulalongkorn Uni...|\n",
      "|Chulalongkorn Uni...|\n",
      "|Center of Excelle...|\n",
      "|Faculty of Medici...|\n",
      "|King Chulalongkor...|\n",
      "|Organisation Euro...|\n",
      "|Rheinisch-Westfäl...|\n",
      "|Tata Institute of...|\n",
      "|Institut de Physi...|\n",
      "|Institut Pluridis...|\n",
      "|Faculty of Scienc...|\n",
      "|State Key Laborat...|\n",
      "|Purdue University...|\n",
      "|Rutgers Universit...|\n",
      "|Academy of Scient...|\n",
      "|Istituto Nazional...|\n",
      "|Istituto Nazional...|\n",
      "|Istituto Nazional...|\n",
      "|Istituto Nazional...|\n",
      "|Istituto Nazional...|\n",
      "+--------------------+\n",
      "only showing top 20 rows\n",
      "\n"
     ]
    }
   ],
   "source": [
    "df.select(F.explode(df[\"affiliations.affilname\"])).show()\n"
   ]
  }
 ],
 "metadata": {
  "kernelspec": {
   "display_name": "Python 3",
   "language": "python",
   "name": "python3"
  },
  "language_info": {
   "codemirror_mode": {
    "name": "ipython",
    "version": 3
   },
   "file_extension": ".py",
   "mimetype": "text/x-python",
   "name": "python",
   "nbconvert_exporter": "python",
   "pygments_lexer": "ipython3",
   "version": "3.12.3"
  }
 },
 "nbformat": 4,
 "nbformat_minor": 2
}
